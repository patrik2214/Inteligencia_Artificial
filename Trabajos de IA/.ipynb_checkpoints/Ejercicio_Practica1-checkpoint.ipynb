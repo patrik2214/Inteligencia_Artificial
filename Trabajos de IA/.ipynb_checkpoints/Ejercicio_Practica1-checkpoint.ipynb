{
 "cells": [
  {
   "cell_type": "code",
   "execution_count": 8,
   "metadata": {},
   "outputs": [],
   "source": [
    "import numpy as np"
   ]
  },
  {
   "cell_type": "code",
   "execution_count": 9,
   "metadata": {},
   "outputs": [],
   "source": [
    "import matplotlib.pyplot as plt"
   ]
  },
  {
   "cell_type": "code",
   "execution_count": 10,
   "metadata": {},
   "outputs": [],
   "source": [
    "POBLACION_SIZE = 100\n",
    "CROMOZOMA_SIZE = 10\n",
    "TASA_CRUZAMIENTO = 0.4\n",
    "TASA_MUTACION = 0.004\n",
    "N_Generaciones = 10\n",
    "X_bound = [0,5]\n"
   ]
  },
  {
   "cell_type": "code",
   "execution_count": 11,
   "metadata": {},
   "outputs": [
    {
     "name": "stdout",
     "output_type": "stream",
     "text": [
      "<class 'list'>\n"
     ]
    }
   ],
   "source": [
    "print(type(X_bound))"
   ]
  },
  {
   "cell_type": "code",
   "execution_count": 12,
   "metadata": {},
   "outputs": [
    {
     "name": "stdout",
     "output_type": "stream",
     "text": [
      "-0.9828357929636686\n"
     ]
    }
   ],
   "source": [
    "def function1(x):\n",
    "    return np.sin(10*x)*x + np.cos(2*x)*x\n",
    "\n",
    "print(function1(10))\n"
   ]
  },
  {
   "cell_type": "code",
   "execution_count": 20,
   "metadata": {},
   "outputs": [
    {
     "name": "stdout",
     "output_type": "stream",
     "text": [
      "[[1 1 0 0 1 1 0 1 1 1]\n",
      " [0 0 0 1 0 1 0 0 0 1]\n",
      " [0 1 1 1 0 0 0 1 1 1]\n",
      " [1 1 1 0 1 0 1 1 0 1]\n",
      " [1 1 0 0 1 0 0 1 0 1]\n",
      " [0 1 1 1 1 0 0 1 1 0]\n",
      " [1 0 0 1 1 1 0 0 1 0]\n",
      " [1 0 0 1 1 0 0 1 0 1]\n",
      " [0 1 0 0 1 1 1 0 1 1]\n",
      " [1 1 0 1 1 1 0 1 0 1]\n",
      " [1 0 0 1 0 0 0 1 1 0]\n",
      " [1 1 0 1 0 1 1 1 1 1]\n",
      " [1 1 0 0 0 1 0 1 1 0]\n",
      " [1 1 0 0 1 0 1 1 1 0]\n",
      " [1 0 1 0 1 1 0 1 0 1]\n",
      " [1 1 0 0 1 0 1 0 0 0]\n",
      " [0 1 0 1 0 0 0 0 0 1]\n",
      " [1 0 0 1 1 1 0 0 1 0]\n",
      " [1 1 1 0 1 1 0 1 1 0]\n",
      " [0 0 0 1 1 1 0 0 0 0]\n",
      " [1 1 0 1 0 0 0 1 1 1]\n",
      " [0 0 1 1 0 1 1 1 1 1]\n",
      " [0 0 0 1 0 1 0 0 0 1]\n",
      " [1 1 1 0 1 0 0 1 0 0]\n",
      " [1 1 0 1 0 1 0 0 0 1]\n",
      " [1 0 1 0 0 1 1 0 0 1]\n",
      " [0 0 0 0 1 0 0 1 0 0]\n",
      " [0 0 0 1 0 1 0 0 1 0]\n",
      " [0 0 1 0 1 1 0 1 0 1]\n",
      " [0 1 1 0 0 1 1 1 1 0]\n",
      " [1 1 0 0 1 1 0 1 0 1]\n",
      " [1 0 0 0 0 0 0 1 1 0]\n",
      " [0 1 1 0 1 1 1 0 1 0]\n",
      " [1 0 1 1 1 1 0 0 0 0]\n",
      " [0 1 1 0 0 0 0 0 1 0]\n",
      " [0 1 0 0 0 0 0 1 0 1]\n",
      " [1 1 0 0 1 0 1 0 0 0]\n",
      " [1 1 0 0 1 1 1 1 1 0]\n",
      " [0 1 0 0 0 1 0 1 1 0]\n",
      " [1 0 0 1 1 0 1 1 0 0]\n",
      " [1 1 1 1 0 0 0 0 0 0]\n",
      " [1 0 1 1 1 1 0 0 1 0]\n",
      " [1 0 1 1 1 0 0 1 1 1]\n",
      " [1 1 0 0 1 0 1 1 0 0]\n",
      " [0 0 1 1 0 1 0 0 0 1]\n",
      " [1 1 1 1 1 1 0 1 1 1]\n",
      " [0 1 0 0 0 0 0 0 0 1]\n",
      " [0 1 0 0 0 0 0 1 0 1]\n",
      " [1 1 1 0 0 0 1 0 1 0]\n",
      " [0 1 0 1 1 1 0 1 1 0]\n",
      " [1 0 0 0 1 0 1 0 1 1]\n",
      " [0 0 0 0 0 0 0 1 0 1]\n",
      " [1 0 0 1 0 0 1 0 1 1]\n",
      " [0 0 0 1 1 0 1 0 0 1]\n",
      " [1 1 1 1 0 0 1 1 1 1]\n",
      " [1 0 0 1 1 1 1 1 0 0]\n",
      " [1 0 1 0 0 1 0 0 0 0]\n",
      " [0 1 0 1 0 1 1 1 0 1]\n",
      " [1 0 1 0 1 1 0 1 0 0]\n",
      " [1 0 0 0 0 1 1 1 1 0]\n",
      " [1 0 0 1 0 1 1 0 1 0]\n",
      " [1 1 0 1 0 0 0 1 0 0]\n",
      " [1 1 1 0 1 1 1 0 1 1]\n",
      " [0 0 1 0 1 0 1 1 1 1]\n",
      " [1 1 1 1 1 1 1 0 1 0]\n",
      " [1 1 0 1 0 0 1 0 0 1]\n",
      " [0 1 0 1 0 0 1 1 1 1]\n",
      " [1 1 1 0 1 0 1 0 1 1]\n",
      " [0 1 0 1 1 0 1 0 1 1]\n",
      " [1 0 1 0 0 0 0 0 1 0]\n",
      " [1 0 0 0 0 1 0 1 1 0]\n",
      " [0 0 1 0 1 0 0 1 0 1]\n",
      " [0 0 0 0 0 0 0 0 0 0]\n",
      " [1 1 1 0 0 1 0 0 0 0]\n",
      " [1 0 0 1 0 0 1 1 1 1]\n",
      " [0 0 1 0 1 1 1 1 0 1]\n",
      " [1 0 1 0 0 0 0 1 1 0]\n",
      " [0 0 1 0 1 1 0 0 1 0]\n",
      " [1 1 1 0 0 0 0 0 0 0]\n",
      " [1 0 0 0 0 0 0 0 1 1]\n",
      " [0 0 1 0 1 1 0 0 0 1]\n",
      " [0 0 0 1 1 1 0 0 0 0]\n",
      " [1 0 0 1 0 1 1 1 0 0]\n",
      " [1 1 0 0 0 0 1 0 0 1]\n",
      " [1 0 0 1 1 1 1 1 1 0]\n",
      " [1 0 1 0 0 0 0 1 1 0]\n",
      " [0 0 1 0 0 1 1 0 0 0]\n",
      " [1 0 0 1 1 1 0 1 0 0]\n",
      " [0 0 1 1 0 0 1 1 1 0]\n",
      " [1 0 0 0 0 1 0 0 0 0]\n",
      " [0 1 1 0 0 0 0 1 1 1]\n",
      " [1 1 1 1 1 0 0 1 1 0]\n",
      " [1 0 0 1 0 0 0 1 1 1]\n",
      " [0 1 0 0 0 0 1 1 1 0]\n",
      " [0 0 1 0 1 1 1 1 0 1]\n",
      " [1 1 1 1 1 1 0 1 0 0]\n",
      " [1 0 0 0 1 1 0 1 0 0]\n",
      " [1 1 0 1 1 1 0 1 0 1]\n",
      " [1 1 1 0 0 0 0 1 1 0]\n",
      " [0 1 0 1 1 0 1 0 1 1]]\n",
      "[0.         0.02512563 0.05025126 0.07537688 0.10050251 0.12562814\n",
      " 0.15075377 0.1758794  0.20100503 0.22613065 0.25125628 0.27638191\n",
      " 0.30150754 0.32663317 0.35175879 0.37688442 0.40201005 0.42713568\n",
      " 0.45226131 0.47738693 0.50251256 0.52763819 0.55276382 0.57788945\n",
      " 0.60301508 0.6281407  0.65326633 0.67839196 0.70351759 0.72864322\n",
      " 0.75376884 0.77889447 0.8040201  0.82914573 0.85427136 0.87939698\n",
      " 0.90452261 0.92964824 0.95477387 0.9798995  1.00502513 1.03015075\n",
      " 1.05527638 1.08040201 1.10552764 1.13065327 1.15577889 1.18090452\n",
      " 1.20603015 1.23115578 1.25628141 1.28140704 1.30653266 1.33165829\n",
      " 1.35678392 1.38190955 1.40703518 1.4321608  1.45728643 1.48241206\n",
      " 1.50753769 1.53266332 1.55778894 1.58291457 1.6080402  1.63316583\n",
      " 1.65829146 1.68341709 1.70854271 1.73366834 1.75879397 1.7839196\n",
      " 1.80904523 1.83417085 1.85929648 1.88442211 1.90954774 1.93467337\n",
      " 1.95979899 1.98492462 2.01005025 2.03517588 2.06030151 2.08542714\n",
      " 2.11055276 2.13567839 2.16080402 2.18592965 2.21105528 2.2361809\n",
      " 2.26130653 2.28643216 2.31155779 2.33668342 2.36180905 2.38693467\n",
      " 2.4120603  2.43718593 2.46231156 2.48743719 2.51256281 2.53768844\n",
      " 2.56281407 2.5879397  2.61306533 2.63819095 2.66331658 2.68844221\n",
      " 2.71356784 2.73869347 2.7638191  2.78894472 2.81407035 2.83919598\n",
      " 2.86432161 2.88944724 2.91457286 2.93969849 2.96482412 2.98994975\n",
      " 3.01507538 3.04020101 3.06532663 3.09045226 3.11557789 3.14070352\n",
      " 3.16582915 3.19095477 3.2160804  3.24120603 3.26633166 3.29145729\n",
      " 3.31658291 3.34170854 3.36683417 3.3919598  3.41708543 3.44221106\n",
      " 3.46733668 3.49246231 3.51758794 3.54271357 3.5678392  3.59296482\n",
      " 3.61809045 3.64321608 3.66834171 3.69346734 3.71859296 3.74371859\n",
      " 3.76884422 3.79396985 3.81909548 3.84422111 3.86934673 3.89447236\n",
      " 3.91959799 3.94472362 3.96984925 3.99497487 4.0201005  4.04522613\n",
      " 4.07035176 4.09547739 4.12060302 4.14572864 4.17085427 4.1959799\n",
      " 4.22110553 4.24623116 4.27135678 4.29648241 4.32160804 4.34673367\n",
      " 4.3718593  4.39698492 4.42211055 4.44723618 4.47236181 4.49748744\n",
      " 4.52261307 4.54773869 4.57286432 4.59798995 4.62311558 4.64824121\n",
      " 4.67336683 4.69849246 4.72361809 4.74874372 4.77386935 4.79899497\n",
      " 4.8241206  4.84924623 4.87437186 4.89949749 4.92462312 4.94974874\n",
      " 4.97487437 5.        ]\n"
     ]
    },
    {
     "data": {
      "text/plain": [
       "[<matplotlib.lines.Line2D at 0x1e4b99b9e48>]"
      ]
     },
     "execution_count": 20,
     "metadata": {},
     "output_type": "execute_result"
    },
    {
     "data": {
      "image/png": "[encoded data removed]",
      "text/plain": [
       "<Figure size 432x288 with 1 Axes>"
      ]
     },
     "metadata": {
      "needs_background": "light"
     },
     "output_type": "display_data"
    }
   ],
   "source": [
    "pob = np.random.randint(2, size = (POBLACION_SIZE,CROMOZOMA_SIZE))\n",
    "plt.ion()\n",
    "x = np.linspace(*X_bound,200)\n",
    "\n",
    "print(pob)\n",
    "print(x)\n",
    "plt.plot(x,function1(x))\n",
    "\n",
    "    \n"
   ]
  },
  {
   "cell_type": "code",
   "execution_count": 21,
   "metadata": {},
   "outputs": [
    {
     "data": {
      "text/plain": [
       "(100, 10)"
      ]
     },
     "execution_count": 21,
     "metadata": {},
     "output_type": "execute_result"
    }
   ],
   "source": [
    "pob.shape\n"
   ]
  },
  {
   "cell_type": "code",
   "execution_count": 26,
   "metadata": {},
   "outputs": [],
   "source": [
    "def fitness(p):\n",
    "    return p +1e-3 -np.min(p)\n"
   ]
  },
  {
   "cell_type": "code",
   "execution_count": 25,
   "metadata": {},
   "outputs": [
    {
     "data": {
      "text/plain": [
       "0.001"
      ]
     },
     "execution_count": 25,
     "metadata": {},
     "output_type": "execute_result"
    }
   ],
   "source": [
    "1e-3"
   ]
  },
  {
   "cell_type": "code",
   "execution_count": 28,
   "metadata": {},
   "outputs": [
    {
     "data": {
      "text/plain": [
       "array([4.02248289, 0.39589443, 2.22385142, 4.59921799, 3.93450635,\n",
       "       2.37536657, 3.05962854, 2.99608993, 1.53958944, 4.3255132 ,\n",
       "       2.84457478, 4.21798631, 3.86119257, 3.97849462, 3.38709677,\n",
       "       3.94916911, 1.56891496, 3.05962854, 4.64320626, 0.54740958,\n",
       "       4.10068426, 1.08993157, 0.39589443, 4.55522972, 4.14956012,\n",
       "       3.25024438, 0.17595308, 0.40078201, 0.88465298, 2.02346041,\n",
       "       4.01270772, 2.53176931, 2.16031281, 3.67546432, 1.88660802,\n",
       "       1.27565982, 3.94916911, 4.05669599, 1.35874878, 3.03030303,\n",
       "       4.69208211, 3.68523949, 3.63147605, 3.96871945, 1.02150538,\n",
       "       4.96089932, 1.25610948, 1.27565982, 4.42815249, 1.82795699,\n",
       "       2.71260997, 0.02443793, 2.86901271, 0.51319648, 4.76539589,\n",
       "       3.1085044 , 3.20625611, 1.70576735, 3.38220919, 2.64907136,\n",
       "       2.94232649, 4.08602151, 4.66764418, 0.85532747, 4.97556207,\n",
       "       4.11045943, 1.63734115, 4.58944282, 1.77419355, 3.13782991,\n",
       "       2.60997067, 0.80645161, 0.        , 4.45747801, 2.88856305,\n",
       "       0.92375367, 3.15738025, 0.86999022, 4.37927664, 2.51710655,\n",
       "       0.86510264, 0.54740958, 2.95210166, 3.79765396, 3.11827957,\n",
       "       3.15738025, 0.742913  , 3.06940371, 1.00684262, 2.58064516,\n",
       "       1.91104594, 4.87781036, 2.84946237, 1.31964809, 0.92375367,\n",
       "       4.94623656, 2.75659824, 4.3255132 , 4.40860215, 1.77419355])"
      ]
     },
     "execution_count": 28,
     "metadata": {},
     "output_type": "execute_result"
    }
   ],
   "source": [
    "def converter_extreme(pob):\n",
    "    return pob.dot(2**np.arange(CROMOZOMA_SIZE)[::-1])/float(2**CROMOZOMA_SIZE -1)* X_bound[1]\n",
    "\n",
    "converter_extreme(pob)\n",
    "\n"
   ]
  },
  {
   "cell_type": "code",
   "execution_count": 34,
   "metadata": {},
   "outputs": [],
   "source": [
    "def selection(pob,fitness):\n",
    "    id=np.random.choice(np.arange(POBLACION_SIZE), size = POBLACION_SIZE, replace = True, p = fitness/ fitness.sum())\n",
    "    return pob[id]\n"
   ]
  },
  {
   "cell_type": "code",
   "execution_count": null,
   "metadata": {},
   "outputs": [],
   "source": []
  }
 ],
 "metadata": {
  "kernelspec": {
   "display_name": "Python 3",
   "language": "python",
   "name": "python3"
  },
  "language_info": {
   "codemirror_mode": {
    "name": "ipython",
    "version": 3
   },
   "file_extension": ".py",
   "mimetype": "text/x-python",
   "name": "python",
   "nbconvert_exporter": "python",
   "pygments_lexer": "ipython3",
   "version": "3.7.4"
  }
 },
 "nbformat": 4,
 "nbformat_minor": 2
}
