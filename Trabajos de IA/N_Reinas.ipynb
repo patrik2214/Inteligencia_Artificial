{
 "cells": [
  {
   "cell_type": "code",
   "execution_count": 1,
   "metadata": {},
   "outputs": [],
   "source": [
    "import numpy as np"
   ]
  },
  {
   "cell_type": "code",
   "execution_count": 2,
   "metadata": {},
   "outputs": [],
   "source": [
    "POBLACION_SIZE = 100\n",
    "CROMOZOMA_SIZE = 8\n",
    "TASA_CRUZAMIENTO = 0.8\n",
    "TASA_MUTACION = 0.003\n",
    "N_Generaciones = 10\n",
    "X_bound = [1,8]"
   ]
  },
  {
   "cell_type": "code",
   "execution_count": 14,
   "metadata": {},
   "outputs": [],
   "source": [
    "pob = np.random.randint(1,9, size = (POBLACION_SIZE,CROMOZOMA_SIZE))"
   ]
  },
  {
   "cell_type": "code",
   "execution_count": 26,
   "metadata": {},
   "outputs": [
    {
     "ename": "SyntaxError",
     "evalue": "invalid syntax (<ipython-input-26-75926f4a3e76>, line 2)",
     "output_type": "error",
     "traceback": [
      "\u001b[1;36m  File \u001b[1;32m\"<ipython-input-26-75926f4a3e76>\"\u001b[1;36m, line \u001b[1;32m2\u001b[0m\n\u001b[1;33m    for i in range (len(pob[CROMOZOMA_SIZE]):\u001b[0m\n\u001b[1;37m                                            ^\u001b[0m\n\u001b[1;31mSyntaxError\u001b[0m\u001b[1;31m:\u001b[0m invalid syntax\n"
     ]
    }
   ],
   "source": [
    "def fitness(CROMOZOMA_SIZE,pob):\n",
    "    for i in range (len(pob[CROMOZOMA_SIZE]):\n",
    "        ataques=0\n",
    "        for i_ in (pob[CROMOZOMA_SIZE][i]):\n",
    "            if(pob[CROMOZOMA_SIZE][i]=pob[CROMOZOMA_SIZE][i+1]):\n",
    "                    ataques= ataques+1\n",
    "                    \n",
    "                    \n",
    "    return ataques"
   ]
  },
  {
   "cell_type": "code",
   "execution_count": null,
   "metadata": {},
   "outputs": [],
   "source": []
  },
  {
   "cell_type": "code",
   "execution_count": null,
   "metadata": {},
   "outputs": [],
   "source": []
  },
  {
   "cell_type": "code",
   "execution_count": null,
   "metadata": {},
   "outputs": [],
   "source": []
  },
  {
   "cell_type": "code",
   "execution_count": null,
   "metadata": {},
   "outputs": [],
   "source": []
  }
 ],
 "metadata": {
  "kernelspec": {
   "display_name": "Python 3",
   "language": "python",
   "name": "python3"
  },
  "language_info": {
   "codemirror_mode": {
    "name": "ipython",
    "version": 3
   },
   "file_extension": ".py",
   "mimetype": "text/x-python",
   "name": "python",
   "nbconvert_exporter": "python",
   "pygments_lexer": "ipython3",
   "version": "3.7.4"
  }
 },
 "nbformat": 4,
 "nbformat_minor": 2
}
